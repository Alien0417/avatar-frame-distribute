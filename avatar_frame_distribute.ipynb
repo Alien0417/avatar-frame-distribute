{
 "cells": [
  {
   "cell_type": "code",
   "execution_count": 1,
   "metadata": {},
   "outputs": [],
   "source": [
    "import json"
   ]
  },
  {
   "cell_type": "code",
   "execution_count": 5,
   "metadata": {},
   "outputs": [],
   "source": [
    "filename = \"topic-export-2022-07-30-132415.json\""
   ]
  },
  {
   "cell_type": "code",
   "execution_count": 6,
   "metadata": {},
   "outputs": [],
   "source": [
    "with open(filename) as f:\n",
    "    data = json.load(f)"
   ]
  },
  {
   "cell_type": "code",
   "execution_count": 80,
   "metadata": {},
   "outputs": [],
   "source": [
    "users = []\n",
    "for u in data[\"users\"]:\n",
    "    # print(u[\"username\"])\n",
    "    users.append(u[\"username\"])"
   ]
  },
  {
   "cell_type": "code",
   "execution_count": 34,
   "metadata": {},
   "outputs": [],
   "source": [
    "str_users = \",\".join(users)"
   ]
  },
  {
   "cell_type": "code",
   "execution_count": 82,
   "metadata": {},
   "outputs": [],
   "source": [
    "# 差值\n",
    "# users_new 新列表\n",
    "res = list(set(users_tmp).difference(set(users)))"
   ]
  },
  {
   "cell_type": "code",
   "execution_count": 86,
   "metadata": {},
   "outputs": [],
   "source": [
    "import math\n",
    "def partition_cut(ls: list, ncut):\n",
    "    \"\"\"\n",
    "    Returns a new list with elements\n",
    "    of which is a list of certain size.\n",
    "        >>> partition_cut([1, 2, 3, 4, 5], 3)\n",
    "        [[1, 2], [3, 4], [5]]\n",
    "\n",
    "    :param ls:\n",
    "    :param n:\n",
    "    :return: list has been cut\n",
    "    \"\"\"\n",
    "    n = len(ls)\n",
    "    if n <= 1 or ncut <= 1:\n",
    "        return ls\n",
    "\n",
    "    res = []\n",
    "    ncut_r = ncut\n",
    "    n_r = n\n",
    "    while ncut_r > 0:\n",
    "        if n_r % ncut_r == 0:\n",
    "            dist = int(n_r / ncut_r)\n",
    "            for _ in range(ncut_r):\n",
    "                next = n - n_r + dist\n",
    "                res.insert(len(res), ls[n - n_r:next])\n",
    "                n_r -= dist\n",
    "            break\n",
    "        else:\n",
    "            dist = math.ceil(n_r / ncut_r)\n",
    "            res.insert(len(res), ls[n - n_r:n - n_r + dist])\n",
    "            ncut_r -= 1\n",
    "            n_r -= dist\n",
    "            continue\n",
    "\n",
    "    return res"
   ]
  },
  {
   "cell_type": "code",
   "execution_count": 93,
   "metadata": {},
   "outputs": [],
   "source": [
    "# 切成十片\n",
    "users_slice = partition_cut(users,10)"
   ]
  },
  {
   "cell_type": "code",
   "execution_count": 94,
   "metadata": {},
   "outputs": [],
   "source": [
    "result_file = \"users_slice_10.txt\"\n",
    "with open(result_file,\"w\") as f:\n",
    "    for s in users_slice:\n",
    "        f.write(\",\".join(s))\n",
    "        f.write(\"\\n\\n\")\n",
    "    f.close()\n",
    "    "
   ]
  },
  {
   "cell_type": "code",
   "execution_count": null,
   "metadata": {},
   "outputs": [],
   "source": []
  }
 ],
 "metadata": {
  "kernelspec": {
   "display_name": "Python 3",
   "language": "python",
   "name": "python3"
  },
  "language_info": {
   "codemirror_mode": {
    "name": "ipython",
    "version": 3
   },
   "file_extension": ".py",
   "mimetype": "text/x-python",
   "name": "python",
   "nbconvert_exporter": "python",
   "pygments_lexer": "ipython3",
   "version": "3.7.6"
  }
 },
 "nbformat": 4,
 "nbformat_minor": 4
}
